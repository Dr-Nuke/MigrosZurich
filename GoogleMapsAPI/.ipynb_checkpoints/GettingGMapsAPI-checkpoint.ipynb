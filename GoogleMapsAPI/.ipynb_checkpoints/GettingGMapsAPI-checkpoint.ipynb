{
 "cells": [
  {
   "cell_type": "markdown",
   "metadata": {},
   "source": [
    "# Google maps API"
   ]
  },
  {
   "cell_type": "markdown",
   "metadata": {},
   "source": [
    "## Load key from external file (notebook, json, or yaml)"
   ]
  },
  {
   "cell_type": "markdown",
   "metadata": {},
   "source": [
    "## notebook "
   ]
  },
  {
   "cell_type": "code",
   "execution_count": 64,
   "metadata": {},
   "outputs": [],
   "source": [
    "import yaml\n",
    "import json\n",
    "\n",
    "from time import sleep"
   ]
  },
  {
   "cell_type": "code",
   "execution_count": 22,
   "metadata": {},
   "outputs": [],
   "source": [
    "#loading credentials\n",
    "key_yaml = yaml.load(open('credentials.yml'), Loader=yaml.FullLoader)"
   ]
  },
  {
   "cell_type": "code",
   "execution_count": 24,
   "metadata": {},
   "outputs": [],
   "source": [
    "def getAPIContent(url):\n",
    "    req = requests.get(url)\n",
    "    places_json = req.json()\n",
    "    return {key: places_json[key] for key in places_json.keys() & {'results', 'next_page_token'}}"
   ]
  },
  {
   "cell_type": "code",
   "execution_count": 86,
   "metadata": {},
   "outputs": [],
   "source": [
    "#%debug\n",
    "def get60Locations(searchquery, maxsteps = 5):\n",
    "\n",
    "    url = \"https://maps.googleapis.com/maps/api/place/textsearch/json?\" #just for places API\n",
    "\n",
    "    # The text string on which to search \n",
    "    query = 'query=' + searchquery\n",
    "\n",
    "    AllResults = {}\n",
    "    next_page_token = 'startstring'\n",
    "    step = 0\n",
    "\n",
    "    #loop as long next_page_token is not empty or max steps is reached\n",
    "    while bool(next_page_token) & (step < max_steps):\n",
    "        #print(f'We are in loop nr {step}')\n",
    "        AllResults[step] = getAPIContent(url + query + '&key=' + key_yaml['key_api'])\n",
    "        if 'next_page_token' in AllResults[step].keys():\n",
    "            #print(AllResults[step]['next_page_token'])\n",
    "            next_page_token = AllResults[step]['next_page_token']\n",
    "        else: #break in case there is no next_page_token\n",
    "            next_page_token = '' \n",
    "\n",
    "        query = 'pagetoken=' + next_page_token\n",
    "        #print(f'The current next_page_token is {next_page_token}')\n",
    "        #print('Next url is:')\n",
    "        #print(url + query + '&key=' + key_yaml['key_api'])\n",
    "\n",
    "        #increment step\n",
    "        step += 1\n",
    "        sleep(2)\n",
    "    \n",
    "    return AllResults\n",
    "  "
   ]
  },
  {
   "cell_type": "markdown",
   "metadata": {},
   "source": [
    "## Read coordinates of Migros locations"
   ]
  },
  {
   "cell_type": "code",
   "execution_count": 87,
   "metadata": {},
   "outputs": [],
   "source": [
    "AllResults = get60Locations('Migros',4)"
   ]
  },
  {
   "cell_type": "code",
   "execution_count": 89,
   "metadata": {},
   "outputs": [
    {
     "data": {
      "text/plain": [
       "3"
      ]
     },
     "execution_count": 89,
     "metadata": {},
     "output_type": "execute_result"
    }
   ],
   "source": [
    "len(AllResults)"
   ]
  },
  {
   "cell_type": "code",
   "execution_count": null,
   "metadata": {},
   "outputs": [],
   "source": []
  }
 ],
 "metadata": {
  "kernelspec": {
   "display_name": "propulsion2020",
   "language": "python",
   "name": "propulsion2020"
  },
  "language_info": {
   "codemirror_mode": {
    "name": "ipython",
    "version": 3
   },
   "file_extension": ".py",
   "mimetype": "text/x-python",
   "name": "python",
   "nbconvert_exporter": "python",
   "pygments_lexer": "ipython3",
   "version": "3.7.6"
  }
 },
 "nbformat": 4,
 "nbformat_minor": 4
}
