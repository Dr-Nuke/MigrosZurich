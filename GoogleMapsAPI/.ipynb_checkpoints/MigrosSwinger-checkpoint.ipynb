{
 "cells": [
  {
   "cell_type": "markdown",
   "metadata": {},
   "source": [
    "### This script calculates for a given coordinate where a new Migros is build, how many people would swap from going to a competitor to going to Migros"
   ]
  },
  {
   "cell_type": "code",
   "execution_count": 1,
   "metadata": {},
   "outputs": [],
   "source": [
    "#compare each node if it's now closer to the new migros:\n",
    "def migrosSwinger(newMigros, df_population, df_comp, df_col, df_clos):\n",
    "    migrosSwinger = 0\n",
    "    for x_cord in df_population.index:\n",
    "        for y_cord in df_population.columns:\n",
    "            #print(f'x={x_cord} and y={y_cord}')\n",
    "            if not(df_col.loc[x_cord,y_cord]):     #if color is 1 then theses customers are already Migros customers. So only look at 0s\n",
    "                closestCompetitor = df_comp.iloc[int(df_clos.loc[x_cord,y_cord])]\n",
    "                if get_distance((x_cord,y_cord),newMigros) < get_distance((x_cord,y_cord),closestCompetitor):\n",
    "                    migrosSwinger += df_population.loc[x_cord,y_cord]  #in this case add all those people to new Migros customers\n",
    "    return migrosSwinger"
   ]
  },
  {
   "cell_type": "code",
   "execution_count": null,
   "metadata": {},
   "outputs": [],
   "source": []
  }
 ],
 "metadata": {
  "kernelspec": {
   "display_name": "Python 3",
   "language": "python",
   "name": "python3"
  },
  "language_info": {
   "codemirror_mode": {
    "name": "ipython",
    "version": 3
   },
   "file_extension": ".py",
   "mimetype": "text/x-python",
   "name": "python",
   "nbconvert_exporter": "python",
   "pygments_lexer": "ipython3",
   "version": "3.7.4"
  }
 },
 "nbformat": 4,
 "nbformat_minor": 4
}
