{
 "cells": [
  {
   "cell_type": "markdown",
   "metadata": {},
   "source": [
    "### This script codes the people in the datagrid with 1 if they have a Migros close by and 0 if a competitor is closer"
   ]
  },
  {
   "cell_type": "code",
   "execution_count": 196,
   "metadata": {},
   "outputs": [],
   "source": [
    "import yaml\n",
    "import json\n",
    "import requests\n",
    "import pandas as pd\n",
    "import numpy as np\n",
    "import matplotlib\n",
    "import timeit\n",
    "#import folium #handling coordinates\n",
    "\n",
    "from scipy import spatial #to handle quick nearest point search\n",
    "from time import sleep"
   ]
  },
  {
   "cell_type": "code",
   "execution_count": 177,
   "metadata": {},
   "outputs": [],
   "source": [
    "#Creating dummy population data\n",
    "df_pop = pd.DataFrame(np.random.randint(0,1000,size=(100, 100)))\n",
    "\n",
    "#Creating dummy Migros/competitor data\n",
    "index = ('migros1', 'migros2', 'migros3', 'migros4', 'migros5', 'migros6', 'migros7', 'migros8', 'migros9', 'migros10')\n",
    "df_migros = pd.DataFrame(np.random.randint(0,100,size=(10,2)),columns = ('x','y'),index=index)\n",
    "index = ('competitor1', 'competitor2', 'competitor3', 'competitor4', 'competitor5', 'competitor6', 'competitor7', 'competitor8', 'competitor9', 'competitor10')\n",
    "df_competitor = pd.DataFrame(np.random.randint(0,100,size=(10,2)),columns = ('x','y'),index=index)\n"
   ]
  },
  {
   "cell_type": "code",
   "execution_count": 178,
   "metadata": {},
   "outputs": [],
   "source": [
    "def get_distance(point1, point2):\n",
    "    return abs(point1[0]-point2[0]) + abs(point1[1]-point2[1])"
   ]
  },
  {
   "cell_type": "code",
   "execution_count": 187,
   "metadata": {},
   "outputs": [],
   "source": [
    "#returns index of closest point in df_points to point and the distance to it.\n",
    "def find_closest(point, df_points):\n",
    "    current_min = float('inf')\n",
    "    current_index = 0\n",
    "    \n",
    "    for i in range(df_points.shape[0]):\n",
    "        current = get_distance(point, df_points.iloc[i])\n",
    "        if current < current_min:\n",
    "            current_min = current\n",
    "            current_index = i\n",
    "    \n",
    "    return (current_index, current_min)"
   ]
  },
  {
   "cell_type": "code",
   "execution_count": 220,
   "metadata": {},
   "outputs": [],
   "source": [
    "def whichClosest(point, df_mig, df_comp):\n",
    "    closest_mig  = find_closest(point, df_mig)\n",
    "    closest_comp = find_closest(point, df_comp)\n",
    "    if closest_mig[1] <= closest_comp[1]:\n",
    "        return (1, closest_mig[0]) #if a migros store is the closest, then label it with 1 and the index of the migros store.\n",
    "    else:\n",
    "        return (0, closest_comp[0])"
   ]
  },
  {
   "cell_type": "code",
   "execution_count": 221,
   "metadata": {},
   "outputs": [],
   "source": [
    "def findingMigroser(df_population, df_mig, df_comp):\n",
    "    df_colors = pd.DataFrame(np.zeros(df_population.shape), index = df_population.index, columns = df_population.columns) #contains all 0s with same index/column names\n",
    "    df_closest = df_colors - 1\n",
    "    for x_cord in df_population.index:\n",
    "        for y_cord in df_population.columns:\n",
    "            whichClosestvar = whichClosest((float(x_cord),float(y_cord)), df_migros, df_competitor)\n",
    "            df_colors.loc[x_cord,y_cord]  = whichClosestvar[0]\n",
    "            df_closest.loc[x_cord,y_cord] = whichClosestvar[1]\n",
    "    return (df_colors, df_closest)\n",
    "    #runtime ~ 30 sec"
   ]
  },
  {
   "cell_type": "code",
   "execution_count": 222,
   "metadata": {},
   "outputs": [],
   "source": [
    "(df_colors, df_closest) = findingMigroser(df_pop, df_migros, df_competitor)"
   ]
  },
  {
   "cell_type": "code",
   "execution_count": 269,
   "metadata": {},
   "outputs": [],
   "source": [
    "#compare each node if it's now closer to the new migros:\n",
    "def migrosSwinger(newMigros, df_population, df_comp, df_col, df_clos):\n",
    "    migrosSwinger = 0\n",
    "    for x_cord in df_population.index:\n",
    "        for y_cord in df_population.columns:\n",
    "            #print(f'x={x_cord} and y={y_cord}')\n",
    "            if not(df_col.loc[x_cord,y_cord]):     #if color is 1 then theses customers are already Migros customers. So only look at 0s\n",
    "                closestCompetitor = df_comp.iloc[int(df_clos.loc[x_cord,y_cord])]\n",
    "                if get_distance((x_cord,y_cord),newMigros) < get_distance((x_cord,y_cord),closestCompetitor):\n",
    "                    migrosSwinger += df_population.loc[x_cord,y_cord]  #in this case add all those people to new Migros customers\n",
    "    return migrosSwinger"
   ]
  },
  {
   "cell_type": "code",
   "execution_count": 270,
   "metadata": {},
   "outputs": [
    {
     "data": {
      "text/plain": [
       "114367"
      ]
     },
     "execution_count": 270,
     "metadata": {},
     "output_type": "execute_result"
    }
   ],
   "source": [
    "x = 55\n",
    "y = 39\n",
    "newMigros = (x, y)\n",
    "migrosSwinger = migrosSwinger(newMigros, df_pop, df_competitor, df_colors, df_closest)\n",
    "migrosSwinger"
   ]
  }
 ],
 "metadata": {
  "kernelspec": {
   "display_name": "Python 3",
   "language": "python",
   "name": "python3"
  },
  "language_info": {
   "codemirror_mode": {
    "name": "ipython",
    "version": 3
   },
   "file_extension": ".py",
   "mimetype": "text/x-python",
   "name": "python",
   "nbconvert_exporter": "python",
   "pygments_lexer": "ipython3",
   "version": "3.7.4"
  }
 },
 "nbformat": 4,
 "nbformat_minor": 4
}
